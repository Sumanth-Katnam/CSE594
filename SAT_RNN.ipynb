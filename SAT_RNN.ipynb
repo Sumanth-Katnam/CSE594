{
  "cells": [
    {
      "cell_type": "markdown",
      "metadata": {},
      "source": [
        "### Required library installations"
      ]
    },
    {
      "cell_type": "code",
      "execution_count": 64,
      "metadata": {},
      "outputs": [],
      "source": [
        "!pip install scikit-learn\n",
        "!pip install avro\n",
        "!pip install torch\n",
        "!pip install matplotlib"
      ]
    },
    {
      "cell_type": "markdown",
      "metadata": {},
      "source": [
        "### Uploading file to Google Colab"
      ]
    },
    {
      "cell_type": "code",
      "execution_count": null,
      "metadata": {},
      "outputs": [],
      "source": [
        "from google.colab import files\n",
        "uploaded = files.upload()"
      ]
    },
    {
      "cell_type": "markdown",
      "metadata": {
        "id": "QeOwh6G4ZmgB"
      },
      "source": [
        "### Load data from avro file"
      ]
    },
    {
      "cell_type": "code",
      "execution_count": 15,
      "metadata": {
        "id": "GgNWQry8zbmn"
      },
      "outputs": [],
      "source": [
        "import pandas as pd\n",
        "from avro.datafile import DataFileReader\n",
        "from avro.io import DatumReader\n",
        "\n",
        "# Change the path to locate the avro file; In case of Google Colab use the file name.\n",
        "filename_txt = 'trial_small.avro'\n",
        "avro_records = []\n",
        "with open(filename_txt, 'rb') as f:\n",
        "    reader = DataFileReader(f, DatumReader())\n",
        "    avro_records = [rec for rec in reader]\n",
        "    reader.close()\n",
        "\n",
        "dataset = pd.DataFrame(avro_records)"
      ]
    },
    {
      "cell_type": "code",
      "execution_count": 16,
      "metadata": {
        "id": "Fin0tJeXZHxu",
        "outputId": "8cf3032f-9424-4a73-b8ef-8129e2a25d46"
      },
      "outputs": [
        {
          "name": "stdout",
          "output_type": "stream",
          "text": [
            "Total:  (5921, 2)\n"
          ]
        }
      ],
      "source": [
        "dataset['cnf'] = dataset['cnf'].astype('string')\n",
        "dataset['label'] = dataset['label'].astype('int')\n",
        "print('Total: ', dataset.shape)"
      ]
    },
    {
      "cell_type": "code",
      "execution_count": 17,
      "metadata": {},
      "outputs": [],
      "source": [
        "from sklearn.utils import shuffle   \n",
        "dataset = shuffle(dataset)\n",
        "dataset.reset_index(inplace=True, drop=True)"
      ]
    },
    {
      "cell_type": "code",
      "execution_count": 18,
      "metadata": {},
      "outputs": [
        {
          "name": "stdout",
          "output_type": "stream",
          "text": [
            "Unsat Shape: (2761, 2)\n",
            "Sat Shape: (3160, 2)\n"
          ]
        }
      ],
      "source": [
        "print(\"Unsat Shape:\", dataset[dataset.label == 0].shape)\n",
        "print(\"Sat Shape:\", dataset[dataset.label == 1].shape)"
      ]
    },
    {
      "cell_type": "code",
      "execution_count": 19,
      "metadata": {
        "id": "URp0B5-9zbmp",
        "outputId": "3b0e6787-4f4f-492c-e8d7-0c2aab3f4d80"
      },
      "outputs": [
        {
          "data": {
            "text/html": [
              "<div>\n",
              "<style scoped>\n",
              "    .dataframe tbody tr th:only-of-type {\n",
              "        vertical-align: middle;\n",
              "    }\n",
              "\n",
              "    .dataframe tbody tr th {\n",
              "        vertical-align: top;\n",
              "    }\n",
              "\n",
              "    .dataframe thead th {\n",
              "        text-align: right;\n",
              "    }\n",
              "</style>\n",
              "<table border=\"1\" class=\"dataframe\">\n",
              "  <thead>\n",
              "    <tr style=\"text-align: right;\">\n",
              "      <th></th>\n",
              "      <th>cnf</th>\n",
              "      <th>label</th>\n",
              "    </tr>\n",
              "  </thead>\n",
              "  <tbody>\n",
              "    <tr>\n",
              "      <th>0</th>\n",
              "      <td>( 16 V -17 V 7 ) ^ ( -12 V -5 V 19 ) ^ ( 18 V ...</td>\n",
              "      <td>1</td>\n",
              "    </tr>\n",
              "    <tr>\n",
              "      <th>1</th>\n",
              "      <td>( -48 V -40 V -21 ) ^ ( 4 V 29 V 15 ) ^ ( -40 ...</td>\n",
              "      <td>0</td>\n",
              "    </tr>\n",
              "    <tr>\n",
              "      <th>2</th>\n",
              "      <td>( -51 V 91 V -17 ) ^ ( -81 V 114 V 95 ) ^ ( -1...</td>\n",
              "      <td>0</td>\n",
              "    </tr>\n",
              "    <tr>\n",
              "      <th>3</th>\n",
              "      <td>( 15 V -44 V 46 ) ^ ( -90 V 66 V 62 ) ^ ( 77 V...</td>\n",
              "      <td>0</td>\n",
              "    </tr>\n",
              "    <tr>\n",
              "      <th>4</th>\n",
              "      <td>( 70 V -1 V -45 ) ^ ( -74 V -34 V 99 ) ^ ( -19...</td>\n",
              "      <td>0</td>\n",
              "    </tr>\n",
              "  </tbody>\n",
              "</table>\n",
              "</div>"
            ],
            "text/plain": [
              "                                                 cnf  label\n",
              "0  ( 16 V -17 V 7 ) ^ ( -12 V -5 V 19 ) ^ ( 18 V ...      1\n",
              "1  ( -48 V -40 V -21 ) ^ ( 4 V 29 V 15 ) ^ ( -40 ...      0\n",
              "2  ( -51 V 91 V -17 ) ^ ( -81 V 114 V 95 ) ^ ( -1...      0\n",
              "3  ( 15 V -44 V 46 ) ^ ( -90 V 66 V 62 ) ^ ( 77 V...      0\n",
              "4  ( 70 V -1 V -45 ) ^ ( -74 V -34 V 99 ) ^ ( -19...      0"
            ]
          },
          "execution_count": 19,
          "metadata": {},
          "output_type": "execute_result"
        }
      ],
      "source": [
        "dataset.head()"
      ]
    },
    {
      "cell_type": "code",
      "execution_count": 20,
      "metadata": {
        "id": "wLoqS7Blzbmq",
        "outputId": "b4c7e0f5-495b-4b96-8a9f-09c1a4d96c8a"
      },
      "outputs": [
        {
          "name": "stdout",
          "output_type": "stream",
          "text": [
            "Rows in test: 593 \n",
            "Rows in train: 5328 \n"
          ]
        }
      ],
      "source": [
        "from sklearn.model_selection import train_test_split\n",
        "\n",
        "train_df, test_df = train_test_split(dataset, test_size=0.1)\n",
        "test_df.reset_index(drop=True, inplace=True)\n",
        "\n",
        "print(\"Rows in test: %s \" % len(test_df))\n",
        "print(\"Rows in train: %s \" % len(train_df))"
      ]
    },
    {
      "cell_type": "code",
      "execution_count": 21,
      "metadata": {
        "id": "SiavXU9T1w6b",
        "outputId": "e1fd41e3-ccf1-49db-9ebc-91cd7e1f5250"
      },
      "outputs": [
        {
          "data": {
            "text/html": [
              "<div>\n",
              "<style scoped>\n",
              "    .dataframe tbody tr th:only-of-type {\n",
              "        vertical-align: middle;\n",
              "    }\n",
              "\n",
              "    .dataframe tbody tr th {\n",
              "        vertical-align: top;\n",
              "    }\n",
              "\n",
              "    .dataframe thead th {\n",
              "        text-align: right;\n",
              "    }\n",
              "</style>\n",
              "<table border=\"1\" class=\"dataframe\">\n",
              "  <thead>\n",
              "    <tr style=\"text-align: right;\">\n",
              "      <th></th>\n",
              "      <th>cnf</th>\n",
              "      <th>label</th>\n",
              "    </tr>\n",
              "  </thead>\n",
              "  <tbody>\n",
              "    <tr>\n",
              "      <th>4884</th>\n",
              "      <td>( 82 V 20 V 40 ) ^ ( -122 V 5 V 79 ) ^ ( 75 V ...</td>\n",
              "      <td>0</td>\n",
              "    </tr>\n",
              "    <tr>\n",
              "      <th>266</th>\n",
              "      <td>( -35 V 34 V 14 ) ^ ( -5 V -6 V 17 ) ^ ( 44 V ...</td>\n",
              "      <td>1</td>\n",
              "    </tr>\n",
              "    <tr>\n",
              "      <th>822</th>\n",
              "      <td>( -62 V 46 V 1 ) ^ ( 12 V -68 V -55 ) ^ ( -28 ...</td>\n",
              "      <td>1</td>\n",
              "    </tr>\n",
              "    <tr>\n",
              "      <th>4815</th>\n",
              "      <td>( 40 V -2 V -4 ) ^ ( -13 V 48 V 17 ) ^ ( 17 V ...</td>\n",
              "      <td>0</td>\n",
              "    </tr>\n",
              "    <tr>\n",
              "      <th>1538</th>\n",
              "      <td>( 32 V -26 V -14 ) ^ ( 27 V 67 V -9 ) ^ ( 86 V...</td>\n",
              "      <td>1</td>\n",
              "    </tr>\n",
              "  </tbody>\n",
              "</table>\n",
              "</div>"
            ],
            "text/plain": [
              "                                                    cnf  label\n",
              "4884  ( 82 V 20 V 40 ) ^ ( -122 V 5 V 79 ) ^ ( 75 V ...      0\n",
              "266   ( -35 V 34 V 14 ) ^ ( -5 V -6 V 17 ) ^ ( 44 V ...      1\n",
              "822   ( -62 V 46 V 1 ) ^ ( 12 V -68 V -55 ) ^ ( -28 ...      1\n",
              "4815  ( 40 V -2 V -4 ) ^ ( -13 V 48 V 17 ) ^ ( 17 V ...      0\n",
              "1538  ( 32 V -26 V -14 ) ^ ( 27 V 67 V -9 ) ^ ( 86 V...      1"
            ]
          },
          "execution_count": 21,
          "metadata": {},
          "output_type": "execute_result"
        }
      ],
      "source": [
        "train_df.head(5)"
      ]
    },
    {
      "cell_type": "markdown",
      "metadata": {
        "id": "OeyIBvzROrik"
      },
      "source": [
        "# Imports"
      ]
    },
    {
      "cell_type": "code",
      "execution_count": 23,
      "metadata": {
        "id": "pE3fYoQ_OnGr"
      },
      "outputs": [],
      "source": [
        "import torch\n",
        "import torch.nn as nn\n",
        "import math\n",
        "import random\n",
        "import time\n",
        "import matplotlib.pyplot as plt\n",
        "\n",
        "%matplotlib inline"
      ]
    },
    {
      "cell_type": "markdown",
      "metadata": {
        "id": "SE12lLEwO__C"
      },
      "source": [
        "# Preparing Data"
      ]
    },
    {
      "cell_type": "code",
      "execution_count": 24,
      "metadata": {
        "id": "TcT3ebt1O_zj"
      },
      "outputs": [],
      "source": [
        "# Generate a list of tuples (title, label) for each data row\n",
        "def read_data(dataframe):\n",
        "    df = dataframe[['cnf', 'label']]\n",
        "    df = df.dropna(subset=['cnf', 'label'])\n",
        "    return [tuple(x) for x in df.to_numpy()]\n",
        "\n",
        "#Get a random tuple from the list of pairs\n",
        "def random_training_pair(pairs):\n",
        "    rand_index = random.randint(0, len(pairs) - 1)\n",
        "    return pairs[rand_index]"
      ]
    },
    {
      "cell_type": "markdown",
      "metadata": {
        "id": "zPau7B-fPBpc"
      },
      "source": [
        "# Establish Tensors"
      ]
    },
    {
      "cell_type": "code",
      "execution_count": 25,
      "metadata": {
        "id": "aNERZ6qoVNJN"
      },
      "outputs": [],
      "source": [
        "all_characters = '()0123456789-V^'\n",
        "n_characters = len(all_characters)"
      ]
    },
    {
      "cell_type": "code",
      "execution_count": 46,
      "metadata": {
        "id": "4I_k-E_JO9TQ"
      },
      "outputs": [],
      "source": [
        "# Turns line into <line_length x 1 x n_letters> tensor\n",
        "def line_to_tensor(line):\n",
        "    tensor = torch.zeros(len(line), 1, n_characters)\n",
        "    for li, letter in enumerate(line):\n",
        "        tensor[li][0][all_characters.find(letter)] = 1\n",
        "    return tensor\n",
        "\n",
        "# Turns label into <1 x 1> tensor\n",
        "def label_to_tensor(label):\n",
        "    return torch.tensor([label], dtype=torch.long)\n",
        "\n",
        "# Takes the category with the highest probability as a guess\n",
        "def category_from_output(output):\n",
        "    top_n, top_i = output.topk(1)\n",
        "    return top_i[0].item()"
      ]
    },
    {
      "cell_type": "markdown",
      "metadata": {
        "id": "Rlw1SlbwPCXC"
      },
      "source": [
        "# Create Network"
      ]
    },
    {
      "cell_type": "code",
      "execution_count": 47,
      "metadata": {
        "id": "uOXyfr5RPClH"
      },
      "outputs": [],
      "source": [
        "class RNNClassify(nn.Module):\n",
        "    def __init__(self, input_size, hidden_size, output_size):\n",
        "        super(RNNClassify, self).__init__()\n",
        "\n",
        "        self.hidden_size = hidden_size\n",
        "        \n",
        "        # Initialize linear and sigmoid layers\n",
        "        self.i2h = nn.Linear(input_size + hidden_size, hidden_size)\n",
        "        self.i2o = nn.Linear(input_size + hidden_size, output_size)\n",
        "        self.sigmoid = nn.LogSigmoid()\n",
        "\n",
        "    def forward(self, input, hidden=None):\n",
        "        # Concatenate input tensor and hidden state\n",
        "        combined = torch.cat((input, hidden), 1)\n",
        "\n",
        "        hidden = self.i2h(combined)\n",
        "        output = self.i2o(combined)\n",
        "        output = self.sigmoid(output)\n",
        "        return output, hidden\n",
        "\n",
        "    def init_hidden(self):\n",
        "        return torch.zeros(1, self.hidden_size)\n"
      ]
    },
    {
      "cell_type": "markdown",
      "metadata": {
        "id": "Q8FEYN0pPC0y"
      },
      "source": [
        "# Train Network"
      ]
    },
    {
      "cell_type": "code",
      "execution_count": 41,
      "metadata": {},
      "outputs": [],
      "source": [
        "from torch.optim.lr_scheduler import ExponentialLR, MultiStepLR"
      ]
    },
    {
      "cell_type": "code",
      "execution_count": 48,
      "metadata": {},
      "outputs": [
        {
          "name": "stdout",
          "output_type": "stream",
          "text": [
            "Epoch: 1 - 100 20% (1m 24s) 0.6925\n",
            "Epoch: 1 - 200 40% (3m 11s) 0.6752\n",
            "Epoch: 1 - 300 60% (4m 57s) 0.6740\n",
            "Epoch: 1 - 400 80% (6m 40s) 0.7252\n",
            "Epoch: 1 - 500 100% (8m 19s) 0.6417\n",
            "Epoch: 2 - 100 20% (9m 56s) 0.7068\n",
            "Epoch: 2 - 200 40% (11m 26s) 0.6231\n",
            "Epoch: 2 - 300 60% (13m 13s) 0.6828\n",
            "Epoch: 2 - 400 80% (15m 6s) 0.6862\n",
            "Epoch: 2 - 500 100% (16m 39s) 0.6083\n",
            "Epoch: 3 - 100 20% (18m 20s) 0.6596\n",
            "Epoch: 3 - 200 40% (20m 3s) 0.6556\n",
            "Epoch: 3 - 300 60% (21m 54s) 0.6352\n",
            "Epoch: 3 - 400 80% (23m 47s) 0.5961\n",
            "Epoch: 3 - 500 100% (25m 29s) 0.5549\n",
            "Epoch: 4 - 100 20% (27m 15s) 0.5672\n",
            "Epoch: 4 - 200 40% (28m 49s) 0.6371\n",
            "Epoch: 4 - 300 60% (30m 28s) 0.5389\n",
            "Epoch: 4 - 400 80% (32m 25s) 0.6325\n",
            "Epoch: 4 - 500 100% (34m 3s) 0.6102\n",
            "Epoch: 5 - 100 20% (35m 45s) 0.6068\n",
            "Epoch: 5 - 200 40% (37m 25s) 0.6102\n",
            "Epoch: 5 - 300 60% (38m 56s) 0.6053\n",
            "Epoch: 5 - 400 80% (40m 34s) 0.5936\n",
            "Epoch: 5 - 500 100% (42m 0s) 0.6000\n",
            "Epoch: 6 - 100 20% (43m 35s) 0.5338\n",
            "Epoch: 6 - 200 40% (45m 21s) 0.5827\n",
            "Epoch: 6 - 300 60% (46m 53s) 0.5115\n",
            "Epoch: 6 - 400 80% (48m 36s) 0.5726\n",
            "Epoch: 6 - 500 100% (49m 58s) 0.4870\n",
            "Epoch: 7 - 100 20% (51m 27s) 0.4986\n",
            "Epoch: 7 - 200 40% (53m 8s) 0.5683\n",
            "Epoch: 7 - 300 60% (54m 43s) 0.5616\n",
            "Epoch: 7 - 400 80% (56m 22s) 0.4729\n",
            "Epoch: 7 - 500 100% (57m 58s) 0.5546\n",
            "Epoch: 8 - 100 20% (59m 24s) 0.5469\n",
            "Epoch: 8 - 200 40% (60m 51s) 0.5303\n",
            "Epoch: 8 - 300 60% (62m 18s) 0.5426\n",
            "Epoch: 8 - 400 80% (63m 57s) 0.5376\n",
            "Epoch: 8 - 500 100% (65m 23s) 0.5286\n",
            "Epoch: 9 - 100 20% (67m 3s) 0.5323\n",
            "Epoch: 9 - 200 40% (68m 40s) 0.5331\n",
            "Epoch: 9 - 300 60% (70m 16s) 0.5231\n",
            "Epoch: 9 - 400 80% (71m 50s) 0.5144\n",
            "Epoch: 9 - 500 100% (73m 38s) 0.4430\n",
            "Epoch: 10 - 100 20% (75m 17s) 0.5169\n",
            "Epoch: 10 - 200 40% (76m 48s) 0.5098\n",
            "Epoch: 10 - 300 60% (78m 10s) 0.5237\n",
            "Epoch: 10 - 400 80% (79m 46s) 0.4528\n",
            "Epoch: 10 - 500 100% (81m 8s) 0.4486\n"
          ]
        },
        {
          "data": {
            "image/png": "[encoded data removed]",
            "text/plain": [
              "<Figure size 432x288 with 1 Axes>"
            ]
          },
          "metadata": {
            "needs_background": "light"
          },
          "output_type": "display_data"
        }
      ],
      "source": [
        "# Helper function to display how long the training has been running\n",
        "def time_since(since):\n",
        "    now = time.time()\n",
        "    s = now - since\n",
        "    m = math.floor(s / 60)\n",
        "    s -= m * 60\n",
        "    return '%dm %ds' % (m, s)\n",
        "\n",
        "\n",
        "# Creates function that performs a step in the training loop\n",
        "def make_train_step(model, criterion, optimizer):\n",
        "    def train_step(x, y):\n",
        "        # Sets model to TRAIN mode\n",
        "        model.train()\n",
        "        \n",
        "        # Initialize hidden state\n",
        "        hidden = model.init_hidden()\n",
        "\n",
        "        # Makes predictions, running through each letter tensor\n",
        "        for i in range(x.size()[0]):\n",
        "            output, hidden = model(x[i], hidden)\n",
        "\n",
        "        # Computes loss\n",
        "        loss = criterion(output, y)\n",
        "\n",
        "        # Computes gradients\n",
        "        loss.backward()\n",
        "\n",
        "        # Updates parameters\n",
        "        optimizer.step()\n",
        "        optimizer.zero_grad()\n",
        "\n",
        "        return output, loss.item()\n",
        "\n",
        "    return train_step\n",
        "\n",
        "# Run training on a given dataframe\n",
        "def run(train_df, plot=False):\n",
        "    n_iters = 500\n",
        "    n_epochs = 10\n",
        "    print_every = 100\n",
        "    plot_every = 100\n",
        "    hidden_len = 64\n",
        "\n",
        "    current_loss = 0\n",
        "    all_losses = []\n",
        "\n",
        "    model = RNNClassify(n_characters, hidden_len, 2)\n",
        "    data_tuples = read_data(train_df)\n",
        "\n",
        "    # Create the optimizer and loss function (criterion)\n",
        "    optimizer = torch.optim.SGD(model.parameters(), lr=0.0002)\n",
        "    criterion = nn.NLLLoss()\n",
        "\n",
        "    \n",
        "    train_step = make_train_step(model, criterion, optimizer)\n",
        "    scheduler1 = ExponentialLR(optimizer, gamma=0.9)\n",
        "    scheduler2 = MultiStepLR(optimizer, milestones=[30,80], gamma=0.1)\n",
        "\n",
        "    start = time.time()\n",
        "    for iter in range(1, n_epochs + 1):\n",
        "        for i in range(1, n_iters + 1):\n",
        "            # Get data and turn input/target into tensors\n",
        "            title, label = random_training_pair(data_tuples)\n",
        "            input_tensor = line_to_tensor(title)\n",
        "            target_tensor = label_to_tensor(label)\n",
        "\n",
        "            # Run one training step\n",
        "            output, loss = train_step(input_tensor, target_tensor)\n",
        "\n",
        "            # The rest of the code in this function is to show how\n",
        "            # the network is learning\n",
        "            current_loss += loss\n",
        "\n",
        "            if i % print_every == 0:\n",
        "                print('Epoch: %d - %d %d%% (%s) %.4f' % (iter, i, i / n_iters * 100, time_since(start), loss))\n",
        "            \n",
        "            if i % plot_every == 0:\n",
        "                all_losses.append(current_loss / plot_every)\n",
        "                current_loss = 0\n",
        "        \n",
        "        scheduler1.step()\n",
        "        scheduler2.step()\n",
        "\n",
        "    if plot:\n",
        "        plt.figure()\n",
        "        plt.xlabel(\"Loss Value\")\n",
        "        plt.ylabel(\"Iterations (scale = 100)\")\n",
        "        plt.plot(all_losses)\n",
        "\n",
        "    # Save the model\n",
        "    torch.save(model.state_dict(), \"test.model\")\n",
        "\n",
        "run(train_df, plot=True)"
      ]
    },
    {
      "cell_type": "markdown",
      "metadata": {
        "id": "ChSpuUmVPDSN"
      },
      "source": [
        "# Evaluate Model"
      ]
    },
    {
      "cell_type": "code",
      "execution_count": 52,
      "metadata": {
        "id": "7a2-Ry-NPD_G",
        "outputId": "a6d3940c-a9e3-454b-bce6-8963f0207838"
      },
      "outputs": [],
      "source": [
        "# Predict the label given a cnf\n",
        "def evaluate(cnf, model):\n",
        "    model.eval()\n",
        "    hidden = model.init_hidden()\n",
        "    input_tensor = line_to_tensor(cnf)\n",
        "    for i in range(input_tensor.size()[0]):\n",
        "        output, hidden = model(input_tensor[i], hidden)\n",
        "    return category_from_output(output)\n",
        "\n",
        "# Calculate accuracy, recall, and precision on a given test dataframe\n",
        "def calculate_accuracy(model, test_df):\n",
        "    false_positives = 0\n",
        "    false_negatives = 0\n",
        "    true_positives = 0\n",
        "    true_negatives = 0\n",
        "\n",
        "    tuples = read_data(test_df)\n",
        "    for cnf, label in tuples:\n",
        "        prediction = evaluate(cnf, model)\n",
        "        if label == prediction and label:\n",
        "            true_positives += 1\n",
        "        if label == prediction and not label:\n",
        "            true_negatives += 1\n",
        "        if label != prediction and label:\n",
        "            false_negatives += 1\n",
        "        if label != prediction and not label:\n",
        "            false_positives += 1\n",
        "    accuracy = (true_positives + true_negatives) / len(test_df)\n",
        "    recall = true_positives / (true_positives + false_negatives)\n",
        "    precision = true_positives / (true_positives + false_positives)\n",
        "\n",
        "    return accuracy, recall, precision"
      ]
    },
    {
      "cell_type": "code",
      "execution_count": 54,
      "metadata": {
        "id": "AGXsoIR9RbIB",
        "outputId": "20a2f61f-7830-449c-ab8f-450786168a17"
      },
      "outputs": [],
      "source": [
        "model = RNNClassify(n_characters, 64, 2)\n",
        "model.load_state_dict(torch.load('test.model'))\n",
        "accuracy, recall, precision = calculate_accuracy(model, test_df)"
      ]
    },
    {
      "cell_type": "code",
      "execution_count": 62,
      "metadata": {},
      "outputs": [
        {
          "name": "stdout",
          "output_type": "stream",
          "text": [
            "Accuracy: 54.620000000000005 \n",
            "Recall: 0.96 \n",
            "Precision: 0.51\n"
          ]
        }
      ],
      "source": [
        "print('Accuracy:', str(round(accuracy, 4)*100), '\\nRecall:', str(round(recall, 2)), '\\nPrecision:', str(round(precision, 2)))"
      ]
    }
  ],
  "metadata": {
    "colab": {
      "collapsed_sections": [],
      "name": "test2.ipynb",
      "provenance": []
    },
    "kernelspec": {
      "display_name": "Python 3.9.13 64-bit (windows store)",
      "language": "python",
      "name": "python3"
    },
    "language_info": {
      "codemirror_mode": {
        "name": "ipython",
        "version": 3
      },
      "file_extension": ".py",
      "mimetype": "text/x-python",
      "name": "python",
      "nbconvert_exporter": "python",
      "pygments_lexer": "ipython3",
      "version": "3.9.13"
    },
    "vscode": {
      "interpreter": {
        "hash": "edfc97013b55eeed778be48f26166ecbf6dc06f015fa0d1c61302f1d61a18982"
      }
    }
  },
  "nbformat": 4,
  "nbformat_minor": 0
}
